{
 "cells": [
  {
   "cell_type": "markdown",
   "metadata": {},
   "source": [
    "## 更改下载路径\n",
    "conda config --add channels https://mirrors.tuna.tsinghua.edu.cn/anaconda/pkgs/free/\n",
    "\n",
    "\n",
    "conda config --set show_channel_urls yes\n",
    "\n",
    "## Windows \n",
    "\n",
    "    * Win + R\n",
    "    * 输入 cmd，按回车\n",
    "    * 输入conda install tensorflow=1.8.0\n",
    "\n",
    "\n",
    "## Mac & Linux\n",
    "\n",
    "    * 输入 ctrl+alt+t\n",
    "    * conda install tensorflow=1.8.0\n",
    "    \n",
    "## 今天的课程资料，访问\n",
    "\n",
    "    https://github.com/rl-lab/workshop"
   ]
  },
  {
   "cell_type": "markdown",
   "metadata": {
    "slideshow": {
     "slide_type": "slide"
    }
   },
   "source": [
    "# 深度神经网络\n",
    "\n",
    " \n",
    "<img src=\"./sources/neural_net2.jpeg\" alt=\"drawing\" width=\"500\"/>\n",
    "\n",
    "\n",
    "$$\\hat{y}^{(1)} = f^{(1)}(\\beta_{10} + x_1\\beta_{11} + \\cdots + x_p\\beta_{1p})$$\n",
    "\n",
    "$$\\hat{y}^{(2)} = f^{(2)}(\\beta_{20} + x_1\\beta_{21} + \\cdots + x_p\\beta_{2p})$$\n",
    "\n",
    "$$\\hat{y}^{(k)} = f^{(k)}(\\beta_{k0} + x_1\\beta_{k1} + \\cdots + x_p\\beta_{kp})$$\n"
   ]
  },
  {
   "cell_type": "markdown",
   "metadata": {
    "collapsed": true,
    "slideshow": {
     "slide_type": "slide"
    }
   },
   "source": [
    "# 复习CNN\n",
    "<img src=\"TensorFlow-Tutorials/images/02_convolution.png\" alt=\"drawing\" width=\"800\"/>\n"
   ]
  },
  {
   "cell_type": "markdown",
   "metadata": {
    "slideshow": {
     "slide_type": "slide"
    }
   },
   "source": [
    "# 深度神经网络是多层非线形复合\n",
    "\n",
    "<img src=\"TensorFlow-Tutorials/images/02_network_flowchart.png\" alt=\"drawing\" width=\"800\"/>"
   ]
  },
  {
   "cell_type": "markdown",
   "metadata": {
    "slideshow": {
     "slide_type": "slide"
    }
   },
   "source": [
    "# 深度神经网络使用数据集\n",
    "\n",
    "<img src=\"./sources2/trainset.jpg\" alt=\"drawing\" width=\"800\"/>"
   ]
  },
  {
   "cell_type": "markdown",
   "metadata": {
    "slideshow": {
     "slide_type": "slide"
    }
   },
   "source": [
    "# DL的特点\n",
    "\n",
    "    * 对原始数据做线性组合（和原来一样）\n",
    "    \n",
    "    * 做一元非线形变换（很简单，没有什么变化）\n",
    "    \n",
    "    * 多层复合\n",
    "        \n",
    "        * 如何设计结构？\n",
    "        \n",
    "        * 多少层好，10，100，1000？ 需要结合计算资源考虑\n",
    "        "
   ]
  },
  {
   "cell_type": "markdown",
   "metadata": {
    "slideshow": {
     "slide_type": "slide"
    }
   },
   "source": [
    "# 人们进行了5年左右的探索，不断突破\n",
    "\n",
    "<img src=\"./sources2/resnet3.png\" alt=\"drawing\" width=\"800\"/>"
   ]
  },
  {
   "cell_type": "markdown",
   "metadata": {
    "slideshow": {
     "slide_type": "slide"
    }
   },
   "source": [
    "<img src=\"./sources2/googlenet.png\" alt=\"drawing\" width=\"800\"/>"
   ]
  },
  {
   "cell_type": "markdown",
   "metadata": {
    "slideshow": {
     "slide_type": "slide"
    }
   },
   "source": [
    "<img src=\"./sources2/resnet1.png\" alt=\"drawing\" width=\"800\"/>"
   ]
  },
  {
   "cell_type": "markdown",
   "metadata": {
    "slideshow": {
     "slide_type": "slide"
    }
   },
   "source": [
    "<img src=\"./sources2/resnet2.png\" alt=\"drawing\" width=\"800\"/>"
   ]
  },
  {
   "cell_type": "markdown",
   "metadata": {
    "slideshow": {
     "slide_type": "slide"
    }
   },
   "source": [
    "# 总结\n",
    "\n",
    "### DL就像玩乐高积木一样，我们手里有：\n",
    "\n",
    "    * 线形模型\n",
    "    \n",
    "    * 一元非线形激活函数\n",
    "    \n",
    "    * 卷积核（不同大小，不同形式）\n",
    "    \n",
    "    * 全联接层\n",
    "\n",
    "    * 池化层\n",
    "    \n",
    "    * dropout层\n",
    "    \n",
    "    * BN层\n",
    "    \n",
    "    * 无穷多新发明的层\n"
   ]
  },
  {
   "cell_type": "markdown",
   "metadata": {
    "slideshow": {
     "slide_type": "slide"
    }
   },
   "source": [
    "<img src=\"./sources2/conv.png\" alt=\"drawing\" width=\"800\"/>"
   ]
  },
  {
   "cell_type": "markdown",
   "metadata": {
    "slideshow": {
     "slide_type": "slide"
    }
   },
   "source": [
    "<img src=\"./sources2/fully-connected-layer.png\" alt=\"drawing\" width=\"800\"/>"
   ]
  },
  {
   "cell_type": "markdown",
   "metadata": {
    "slideshow": {
     "slide_type": "slide"
    }
   },
   "source": [
    "<img src=\"./sources2/pooling.png\" alt=\"drawing\" width=\"800\"/>"
   ]
  },
  {
   "cell_type": "markdown",
   "metadata": {
    "slideshow": {
     "slide_type": "slide"
    }
   },
   "source": [
    "<img src=\"./sources2/dropout.gif\" alt=\"drawing\" width=\"800\"/>"
   ]
  },
  {
   "cell_type": "markdown",
   "metadata": {
    "slideshow": {
     "slide_type": "slide"
    }
   },
   "source": [
    "<img src=\"./sources2/bn.jpg\" alt=\"drawing\" width=\"800\"/>\n",
    "\n",
    "### WHY?"
   ]
  },
  {
   "cell_type": "markdown",
   "metadata": {
    "slideshow": {
     "slide_type": "slide"
    }
   },
   "source": [
    "<img src=\"./sources2/deconv.jpeg\" alt=\"drawing\" width=\"800\"/>"
   ]
  },
  {
   "cell_type": "markdown",
   "metadata": {
    "slideshow": {
     "slide_type": "slide"
    }
   },
   "source": [
    "# 实操：手写数字\n",
    "\n"
   ]
  }
 ],
 "metadata": {
  "celltoolbar": "Slideshow",
  "kernelspec": {
   "display_name": "Python 3",
   "language": "python",
   "name": "python3"
  },
  "language_info": {
   "codemirror_mode": {
    "name": "ipython",
    "version": 3
   },
   "file_extension": ".py",
   "mimetype": "text/x-python",
   "name": "python",
   "nbconvert_exporter": "python",
   "pygments_lexer": "ipython3",
   "version": "3.6.3"
  }
 },
 "nbformat": 4,
 "nbformat_minor": 2
}
