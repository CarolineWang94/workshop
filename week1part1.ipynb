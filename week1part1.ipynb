{
 "cells": [
  {
   "cell_type": "markdown",
   "metadata": {
    "slideshow": {
     "slide_type": "slide"
    }
   },
   "source": [
    "# 深度学习案例实战\n",
    "<center>陈昱</center>"
   ]
  },
  {
   "cell_type": "markdown",
   "metadata": {
    "slideshow": {
     "slide_type": "slide"
    }
   },
   "source": [
    "## 关于本次Workshop\n",
    "\n",
    "#### Workshop一共有4次：\n",
    "\n",
    "    * 10.12 13:00-16:00  \n",
    "    \n",
    "    * 10.19 13:00-16:00 \n",
    "    \n",
    "    * 10.26 13:00-16:00  \n",
    "    \n",
    "    * 11.2  13:00-16:00 \n",
    "    \n",
    "本次workshop所的讲义、代码等资源会在workshop结束后公开在github上。\n",
    "\n"
   ]
  },
  {
   "cell_type": "markdown",
   "metadata": {
    "slideshow": {
     "slide_type": "slide"
    }
   },
   "source": [
    "## 关于我\n",
    "\n",
    "陈昱，光华管理学院统计系博士生在读。\n",
    "\n",
    "\n",
    "\n",
    "\n"
   ]
  },
  {
   "cell_type": "markdown",
   "metadata": {
    "slideshow": {
     "slide_type": "slide"
    }
   },
   "source": [
    "# 深度学习的背景故事\n",
    "\n",
    "\n",
    "回归问题\n",
    "\n",
    "$$\\text{体重} = (\\text{身高} - 100 ) \\times 0.9$$\n",
    "\n",
    "\n",
    "$$\\text{年龄} = f(\\text{身高}) + f(\\text{身高} ^ 2) + \\cdots$$\n",
    "\n",
    "<img src=\"./sources/predict_age.png\" alt=\"drawing\" width=\"400\"/>\n",
    "\n",
    "### 新的需求提出了新的问题:\n",
    "\n",
    "    * 如何表示图片数据？\n",
    "    * f 应当具有什么形式？\n",
    "    * f 的参数如何估计？\n"
   ]
  },
  {
   "cell_type": "markdown",
   "metadata": {
    "slideshow": {
     "slide_type": "slide"
    }
   },
   "source": [
    "# 深度学习的图像应用\n",
    "\n",
    "假设，成功的设计并估计出了$f$，我们要在商场里识别来往顾客的年龄。新的问题出现了：\n",
    "\n",
    "* 不可能强迫用户把脸对准摄像头，需要在大照片中找到人脸，然后才能用$f$来估计年龄\n",
    "\n",
    "<img src=\"./sources/face_age.png\" alt=\"drawing\" width=\"700\"/>\n",
    "\n"
   ]
  },
  {
   "cell_type": "markdown",
   "metadata": {
    "slideshow": {
     "slide_type": "slide"
    }
   },
   "source": [
    "# 深度学习的图像应用\n",
    "\n",
    "\n",
    "<img src=\"./sources/car.jpg\" alt=\"drawing\" width=\"400\"/>"
   ]
  },
  {
   "cell_type": "markdown",
   "metadata": {
    "slideshow": {
     "slide_type": "slide"
    }
   },
   "source": [
    "# 深度学习的图像应用\n",
    "<img src=\"./sources/station.jpeg\" alt=\"drawing\" width=\"700\"/>"
   ]
  },
  {
   "cell_type": "markdown",
   "metadata": {
    "slideshow": {
     "slide_type": "slide"
    }
   },
   "source": [
    "# 深度学习的图像应用\n",
    "\n",
    "### 人脸识别是怎么做的？\n",
    "\n",
    "    * 输入X：图片1:身份证照片，图片2:实时采集照片\n",
    "    \n",
    "    * 输出Y：0/1 是否同一个人\n",
    "    \n",
    "$$P(\\text{是同一个人}) = f(\\text{图片1}, \\text{图片2})$$\n",
    "\n",
    "\n",
    "### 数据很容易收集\n",
    "\n",
    "\n",
    "###  回归函数怎么设计？"
   ]
  },
  {
   "cell_type": "markdown",
   "metadata": {
    "slideshow": {
     "slide_type": "slide"
    }
   },
   "source": [
    "# 深度学习的图像应用\n",
    "<img src=\"./sources/motion.png\" alt=\"drawing\" width=\"700\"/>"
   ]
  },
  {
   "cell_type": "markdown",
   "metadata": {
    "slideshow": {
     "slide_type": "slide"
    }
   },
   "source": [
    "# 深度学习的图像潜在应用\n",
    "<img src=\"./sources/taobao.png\" alt=\"drawing\" width=\"700\"/>"
   ]
  },
  {
   "cell_type": "markdown",
   "metadata": {
    "slideshow": {
     "slide_type": "slide"
    }
   },
   "source": [
    "# 深度学习的图像潜在应用\n",
    "<img src=\"./sources/book.png\" alt=\"drawing\" width=\"400\"/>"
   ]
  },
  {
   "cell_type": "markdown",
   "metadata": {
    "slideshow": {
     "slide_type": "slide"
    }
   },
   "source": [
    "# 深度学习的文本应用\n",
    "\n",
    "现在驱动深度学习发展的有三驾马车：图像，文本，游戏。下面讲讲文本。\n",
    "\n",
    "原来的机器学习方法:\n",
    "    * 输入文本：美国政府宣布实施对从中国进口的约2000亿美元商品加征关税的措施...中方将给予相应回应。这标志着中美贸易战进一步升级\n",
    "    \n",
    "    * 输出：类别：政治新闻\n",
    "\n",
    "朋友圈新闻的需求：\n",
    "\n",
    "    * 输入文本：美国政府宣布实施对从中国进口的约2000亿美元商品加征关税的措施...中方将给予相应回应。这标志着中美贸易战进一步升级\n",
    "    \n",
    "    * 输出摘要：美国要打贸易战\n"
   ]
  },
  {
   "cell_type": "markdown",
   "metadata": {
    "slideshow": {
     "slide_type": "slide"
    }
   },
   "source": [
    "<img src=\"./sources/translate.png\" alt=\"drawing\" width=\"700\"/>"
   ]
  },
  {
   "cell_type": "markdown",
   "metadata": {
    "slideshow": {
     "slide_type": "slide"
    }
   },
   "source": [
    "# 深度学习与文本\n",
    "\n",
    "把句子变成词频矩阵\n",
    "$$x = x_1, x_2, \\cdots, x_{|dict|} = (\\text{#美国}, \\text{#中国}, \\cdots, \\text{#斑马})$$\n",
    "\n",
    "把类别对应成离散类别，\n",
    "$$y=(c1, c2, \\cdots, c_k) = (\\text{政治新闻}, \\text{娱乐新闻}, \\cdots, ..., \\text{小说})$$\n",
    "\n",
    "用逻辑回归，朴素贝叶斯，SVM做分类。\n",
    "\n",
    "## 深度学习让我们能够\n",
    "\n",
    "* 不数词频，直接用原始句子当输入\n",
    "\n",
    "* 允许输出是一个序列：中文短句子，英文句子\n",
    "\n"
   ]
  },
  {
   "cell_type": "markdown",
   "metadata": {
    "slideshow": {
     "slide_type": "slide"
    }
   },
   "source": [
    "# 深度学习与文本\n",
    "\n",
    "facebook 希望算法代替人工审核\n",
    "\n",
    "<img src=\"./sources/political.jpg\" alt=\"drawing\" width=\"700\"/>\n"
   ]
  },
  {
   "cell_type": "markdown",
   "metadata": {
    "slideshow": {
     "slide_type": "slide"
    }
   },
   "source": [
    "# 深度学习与声音\n",
    "<img src=\"./sources/speech_pattern.jpg\" alt=\"drawing\" width=\"700\"/>"
   ]
  },
  {
   "cell_type": "markdown",
   "metadata": {
    "slideshow": {
     "slide_type": "slide"
    }
   },
   "source": [
    "# 声音的应用\n",
    "\n",
    "    * 声纹解锁：X是什么，Y是什么？\n",
    "    \n",
    "    * 还有？"
   ]
  },
  {
   "cell_type": "markdown",
   "metadata": {
    "slideshow": {
     "slide_type": "slide"
    }
   },
   "source": [
    "# 深度学习与文本\n",
    "\n",
    "<img src=\"./sources/subtitle.jpg\" alt=\"drawing\" width=\"700\"/>"
   ]
  },
  {
   "cell_type": "markdown",
   "metadata": {
    "slideshow": {
     "slide_type": "slide"
    }
   },
   "source": [
    "# 深度学习与强化学习\n",
    "\n",
    "我们希望模型能给出一系列的\"action\"\n",
    "\n",
    "\n",
    "<img src=\"./sources/alphago.jpg\" alt=\"drawing\" width=\"400\"/>\n",
    "\n",
    "\n",
    "并且，不像图片和翻译问题，\n",
    "    * 每一个图都有一个年龄\n",
    "    * 每一个中文句子都有对应英文句子\n",
    "\n",
    "这个场景下，人类对于每个action好与不好无法评价，只能在很多个action后给出1个评价。\n"
   ]
  },
  {
   "cell_type": "markdown",
   "metadata": {
    "slideshow": {
     "slide_type": "slide"
    }
   },
   "source": [
    "# 股票案例\n",
    "\n",
    "<img src=\"./sources/bitcoin.png\" alt=\"drawing\" width=\"700\"/>\n",
    "\n"
   ]
  },
  {
   "cell_type": "markdown",
   "metadata": {
    "slideshow": {
     "slide_type": "slide"
    }
   },
   "source": [
    "# RTB广告\n",
    "\n",
    "<img src=\"./sources/ad.png\" alt=\"drawing\" width=\"700\"/>\n",
    "\n"
   ]
  },
  {
   "cell_type": "code",
   "execution_count": null,
   "metadata": {
    "collapsed": true
   },
   "outputs": [],
   "source": []
  }
 ],
 "metadata": {
  "celltoolbar": "Slideshow",
  "kernelspec": {
   "display_name": "Python 3",
   "language": "python",
   "name": "python3"
  },
  "language_info": {
   "codemirror_mode": {
    "name": "ipython",
    "version": 3
   },
   "file_extension": ".py",
   "mimetype": "text/x-python",
   "name": "python",
   "nbconvert_exporter": "python",
   "pygments_lexer": "ipython3",
   "version": "3.6.3"
  }
 },
 "nbformat": 4,
 "nbformat_minor": 2
}
